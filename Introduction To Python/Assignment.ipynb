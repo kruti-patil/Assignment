{
  "cells": [
    {
      "cell_type": "code",
      "execution_count": null,
      "metadata": {
        "id": "sr7jpiIRRtsM"
      },
      "outputs": [],
      "source": [
        "#Module2\n",
        "#Task -2 python"
      ]
    },
    {
      "cell_type": "code",
      "execution_count": null,
      "metadata": {
        "colab": {
          "base_uri": "https://localhost:8080/"
        },
        "id": "8JtSEyYhR6SE",
        "outputId": "3d4dd703-e5a8-4354-ac25-dc5e0085ea47"
      },
      "outputs": [
        {
          "name": "stdout",
          "output_type": "stream",
          "text": [
            "Enter A number : 2\n",
            "Sum : 3\n"
          ]
        }
      ],
      "source": [
        "# 1. Write a python program to sum of the first n positive integers.\n",
        "n = int(input('Enter A number : '))\n",
        "sum_loop = 0\n",
        "if(n > 0):\n",
        "  for num in range(1, n + 1):\n",
        "    sum_loop += num\n",
        "  print(\"Sum :\", sum_loop)\n"
      ]
    },
    {
      "cell_type": "code",
      "execution_count": null,
      "metadata": {
        "colab": {
          "base_uri": "https://localhost:8080/"
        },
        "id": "ZZbClyVXXSIj",
        "outputId": "cd78f67c-1d69-423c-d41c-6b1838aa3112"
      },
      "outputs": [
        {
          "name": "stdout",
          "output_type": "stream",
          "text": [
            "Enter A string : banana\n",
            "Enter A Sub string : ana\n",
            "Occurrences of '\u001b[1mana\u001b[0m' using count(): 1\n"
          ]
        }
      ],
      "source": [
        "# 2. Write a Python program to count occurrences of a substring in a string\n",
        "str1 = input(\"Enter A string : \")\n",
        "sub_str = input(\"Enter A Sub string : \")\n",
        "str_count = str1.count(sub_str)\n",
        "#print(f\"Occurrences of '{sub_str}' using count():\", str_count)\n",
        "print(f\"Occurrences of '\\033[1m{sub_str}\\033[0m' using count(): {str_count}\")"
      ]
    },
    {
      "cell_type": "code",
      "execution_count": null,
      "metadata": {
        "colab": {
          "base_uri": "https://localhost:8080/"
        },
        "id": "LHNCYD2af110",
        "outputId": "6c38b8ee-d19a-4907-8f46-1283edb95606"
      },
      "outputs": [
        {
          "name": "stdout",
          "output_type": "stream",
          "text": [
            "Enter A string : Python is easy and Python is powerful\n",
            "{'Python': 2, 'is': 2, 'easy': 1, 'and': 1, 'powerful': 1}\n"
          ]
        }
      ],
      "source": [
        "# 3. Write a Python program to count the occurrences of each word in a given sentence.\n",
        "str1 = input(\"Enter A string : \")\n",
        "words = str1.split()\n",
        "word_count = {}\n",
        "for word in words:\n",
        "    word_count[word] = word_count.get(word, 0) + 1\n",
        "print(word_count)"
      ]
    },
    {
      "cell_type": "code",
      "execution_count": null,
      "metadata": {
        "colab": {
          "base_uri": "https://localhost:8080/"
        },
        "id": "jA04sAlqh2Fs",
        "outputId": "88b3569f-78af-48a7-c17f-8a36c3f445b9"
      },
      "outputs": [
        {
          "name": "stdout",
          "output_type": "stream",
          "text": [
            "Enter first string: Hello\n",
            "Enter second string: python\n",
            "Result: pyllo Hethon\n"
          ]
        }
      ],
      "source": [
        "#4. Write a Python program to get a single string from two given strings, separated by a space and swap the first two characters of each string\n",
        "str1 = input(\"Enter first string: \")\n",
        "str2 = input(\"Enter second string: \")\n",
        "new_str1 = str2[:2] + str1[2:]\n",
        "new_str2 = str1[:2] + str2[2:]\n",
        "result = new_str1 + \" \" + new_str2\n",
        "print(\"Result:\", result)"
      ]
    },
    {
      "cell_type": "code",
      "execution_count": null,
      "metadata": {
        "colab": {
          "base_uri": "https://localhost:8080/"
        },
        "id": "ePDMH5DUjKZg",
        "outputId": "4651ca3d-1996-4684-b5c5-809edf526cb2"
      },
      "outputs": [
        {
          "name": "stdout",
          "output_type": "stream",
          "text": [
            "Enter a word: play\n",
            "Result: playing\n"
          ]
        }
      ],
      "source": [
        " '''\n",
        " 5. Write a Python program to add 'ing' at the end of a given string (length should be at least 3). If the given string already ends with 'ing' then add 'ly' instead If the\n",
        " string length of the given string is less than 3, leave it unchanged\n",
        " '''\n",
        "\n",
        "s1 = input(\"Enter a word: \")\n",
        "\n",
        "if len(s1) < 3:\n",
        "    result = s1\n",
        "elif s1[-3:] == \"ing\":\n",
        "    result = s1 + \"ly\"\n",
        "else:\n",
        "    result = s1 + \"ing\"\n",
        "\n",
        "print(\"Result:\", result)\n"
      ]
    },
    {
      "cell_type": "code",
      "execution_count": null,
      "metadata": {
        "colab": {
          "base_uri": "https://localhost:8080/"
        },
        "id": "kcMRzs7Nm5Gg",
        "outputId": "82f30628-6d22-4789-ab52-3293bba37812"
      },
      "outputs": [
        {
          "name": "stdout",
          "output_type": "stream",
          "text": [
            "Enter a sentence: The movie is not that poor!\n",
            "Result: The movie is good!\n"
          ]
        }
      ],
      "source": [
        "'''6. Write a Python program to find the first appearance of the substring 'not' and 'poor' from a given string, if 'not' follows the 'poor', replace the whole 'not'...'poor'\n",
        " substring with 'good'. Return the resulting string'''\n",
        "\n",
        "s = input(\"Enter a sentence: \")\n",
        "\n",
        "pos_not = s.find(\"not\")\n",
        "pos_poor = s.find(\"poor\")\n",
        "\n",
        "if pos_not != -1 and pos_poor != -1 and pos_not < pos_poor:\n",
        "    result = s[:pos_not] + \"good\" + s[pos_poor+4:]\n",
        "else:\n",
        "    result = s\n",
        "\n",
        "print(\"Result:\", result)\n",
        "\n"
      ]
    },
    {
      "cell_type": "code",
      "execution_count": null,
      "metadata": {
        "colab": {
          "base_uri": "https://localhost:8080/"
        },
        "id": "tO_NOOaDql5c",
        "outputId": "5ad8f6f7-45be-4c82-9cae-5b1e89f85b29"
      },
      "outputs": [
        {
          "name": "stdout",
          "output_type": "stream",
          "text": [
            "Enter first number: 20\n",
            "Enter second number: 28\n",
            "GCD is :  4\n"
          ]
        }
      ],
      "source": [
        "'''\n",
        " 7. Program to find Greatest Common Divisor of two numbers. For example, the\n",
        " GCDof20 and 28 is 4 and the GCD of 98 and 56 is 14.\n",
        " '''\n",
        "import math\n",
        "a = int(input(\"Enter first number: \"))\n",
        "b = int(input(\"Enter second number: \"))\n",
        "gcd = math.gcd(a , b)\n",
        "print('GCD is : ',gcd)\n"
      ]
    },
    {
      "cell_type": "code",
      "execution_count": null,
      "metadata": {
        "id": "3k0nOhhur1oR",
        "colab": {
          "base_uri": "https://localhost:8080/"
        },
        "outputId": "b84f4efc-9189-47d0-d7cb-038f1c8eee02"
      },
      "outputs": [
        {
          "output_type": "stream",
          "name": "stdout",
          "text": [
            "True\n"
          ]
        }
      ],
      "source": [
        "'''\n",
        " 8. Write a Python program to check whether a list contains a sublist.\n",
        " '''\n",
        "a = [5, 6, 3, 8, 2, 1, 7, 1]\n",
        "b = [8, 2, 1]\n",
        "\n",
        "res = str(b)[1:-1] in str(a)[1:-1]\n",
        "\n",
        "print(res)\n"
      ]
    },
    {
      "cell_type": "code",
      "execution_count": null,
      "metadata": {
        "colab": {
          "base_uri": "https://localhost:8080/"
        },
        "id": "0fWfdF1FsKIv",
        "outputId": "13f463bb-e287-4cc8-9e96-fa4c951a8af8"
      },
      "outputs": [
        {
          "name": "stdout",
          "output_type": "stream",
          "text": [
            "Second smallest number is: 8\n"
          ]
        }
      ],
      "source": [
        "# 9. Write a Python program to find the second smallest number in a list.\n",
        "numbers = [12, 14, 8, 3, 19, 3]\n",
        "nums = list(set(numbers))\n",
        "nums.sort()\n",
        "if len(nums) >= 2:\n",
        "   print(\"Second smallest number is:\", nums[1])\n",
        "else:\n",
        "  print(\"No second smallest found\")\n"
      ]
    },
    {
      "cell_type": "code",
      "execution_count": null,
      "metadata": {
        "colab": {
          "base_uri": "https://localhost:8080/"
        },
        "id": "isT7mg6Jtq3G",
        "outputId": "f78e764f-9467-40a7-efd1-52c3ed13f689"
      },
      "outputs": [
        {
          "name": "stdout",
          "output_type": "stream",
          "text": [
            "Unique values: [1, 2, 3, 4, 5]\n"
          ]
        }
      ],
      "source": [
        "# 10.Write a Python program to get unique values from a list\n",
        "numbers = [1, 2, 2, 3, 4, 4, 5, 1]\n",
        "\n",
        "unique_values = list(set(numbers))\n",
        "\n",
        "print(\"Unique values:\", unique_values)"
      ]
    },
    {
      "cell_type": "code",
      "execution_count": null,
      "metadata": {
        "colab": {
          "base_uri": "https://localhost:8080/"
        },
        "id": "xFI8JtrduL9H",
        "outputId": "20e8bf97-314f-437d-d714-5f3d8909484c"
      },
      "outputs": [
        {
          "name": "stdout",
          "output_type": "stream",
          "text": [
            "['a', 'b']\n",
            "[1, 4]\n",
            "[('apple', 'banana', 'cherry'), (1, 2, 3)]\n"
          ]
        }
      ],
      "source": [
        "# 11.Write a Python program to unzip a list of tuples into individual lists.\n",
        "c = [('a', 1), ('b', 4)]\n",
        "a = [x[0] for x in c]\n",
        "b = [x[1] for x in c]\n",
        "\n",
        "print(a)\n",
        "print(b)\n",
        "\n",
        "#or\n",
        "\n",
        "data = [('apple', 1), ('banana', 2), ('cherry', 3)]\n",
        "result = list(zip(*data))\n",
        "print(result)\n"
      ]
    },
    {
      "cell_type": "code",
      "execution_count": null,
      "metadata": {
        "colab": {
          "base_uri": "https://localhost:8080/"
        },
        "id": "TFK5ersQuUvQ",
        "outputId": "f85d4e20-da6b-4e8d-a85d-241d26c7e3a8"
      },
      "outputs": [
        {
          "name": "stdout",
          "output_type": "stream",
          "text": [
            "Original list of tuples: [(1, 'apple'), (2, 'banana'), (3, 'cherry')]\n",
            "Converted dictionary: {1: 'apple', 2: 'banana', 3: 'cherry'}\n"
          ]
        }
      ],
      "source": [
        "# 12.Write a Python program to convert a list of tuples into a dictionary\n",
        "pairs = [(1, 'apple'), (2, 'banana'), (3, 'cherry')]\n",
        "my_dict = dict(pairs)\n",
        "print(\"Original list of tuples:\", pairs)\n",
        "print(\"Converted dictionary:\", my_dict)"
      ]
    },
    {
      "cell_type": "code",
      "execution_count": null,
      "metadata": {
        "colab": {
          "base_uri": "https://localhost:8080/"
        },
        "id": "AIQk47WPu0Ky",
        "outputId": "e86aa2d7-bf62-416e-e426-7b184e5bee55"
      },
      "outputs": [
        {
          "name": "stdout",
          "output_type": "stream",
          "text": [
            "Original Dictionary: {'apple': 10, 'banana': 2, 'cherry': 15, 'date': 7}\n",
            "Ascending by value: {'banana': 2, 'date': 7, 'apple': 10, 'cherry': 15}\n",
            "Descending by value: {'cherry': 15, 'apple': 10, 'date': 7, 'banana': 2}\n"
          ]
        }
      ],
      "source": [
        "#13.Write a Python program to sort a dictionary (ascending /descending) by value.\n",
        "my_dict = {'apple': 10, 'banana': 2, 'cherry': 15, 'date': 7}\n",
        "ascending = dict(sorted(my_dict.items(), key=lambda item: item[1]))\n",
        "descending = dict(sorted(my_dict.items(), key=lambda item: item[1], reverse=True))\n",
        "print(\"Original Dictionary:\", my_dict)\n",
        "print(\"Ascending by value:\", ascending)\n",
        "print(\"Descending by value:\", descending)\n"
      ]
    },
    {
      "cell_type": "code",
      "execution_count": null,
      "metadata": {
        "colab": {
          "base_uri": "https://localhost:8080/"
        },
        "id": "IqQCYE0KvAlW",
        "outputId": "46f225f7-c787-488d-eab0-8f6334dccea7"
      },
      "outputs": [
        {
          "name": "stdout",
          "output_type": "stream",
          "text": [
            "Dictionary: {'apple': 50, 'banana': 20, 'cherry': 90, 'date': 40, 'mango': 75}\n",
            "Top 3 highest values: [90, 75, 50]\n"
          ]
        }
      ],
      "source": [
        "#14.Write a Python program to find the highest 3 values in a dictionary.\n",
        "my_dict = {'apple': 50, 'banana': 20, 'cherry': 90, 'date': 40, 'mango': 75}\n",
        "top3 = sorted(my_dict.values(), reverse=True)[:3]\n",
        "print(\"Dictionary:\", my_dict)\n",
        "print(\"Top 3 highest values:\", top3)"
      ]
    },
    {
      "cell_type": "code",
      "execution_count": null,
      "metadata": {
        "colab": {
          "base_uri": "https://localhost:8080/"
        },
        "id": "80NDKOrnvg4r",
        "outputId": "a91877d1-9b72-4795-bd32-fba7cd515c2f"
      },
      "outputs": [
        {
          "name": "stdout",
          "output_type": "stream",
          "text": [
            "Enter A number : 7\n",
            "1\n",
            "2\n",
            "3\n",
            "5\n",
            "8\n",
            "13\n"
          ]
        }
      ],
      "source": [
        "'''\n",
        "15.Given a number n, write a python program to make and print the list of Fibonacci\n",
        " series up to n. Input : n=7 Hint : first 7 numbers in the series Expected output.\n",
        "  First few Fibonacci numbers are 0, 1, 1, 2, 3, 5, 8, 13\n",
        " '''\n",
        "input_number = int(input(\"Enter A number : \"))\n",
        "a = 0\n",
        "b = 1\n",
        "\n",
        "if(input_number < 0 ):\n",
        "  print('In Correct Input')\n",
        "elif(input_number == 0):\n",
        "  print(a)\n",
        "elif(input_number == 1):\n",
        "  print(b)\n",
        "else:\n",
        "  for i in range(1,input_number):\n",
        "    c = a + b\n",
        "    a = b\n",
        "    b = c\n",
        "    print(b)"
      ]
    },
    {
      "cell_type": "code",
      "execution_count": null,
      "metadata": {
        "colab": {
          "base_uri": "https://localhost:8080/"
        },
        "id": "nrd2YPAQwE53",
        "outputId": "96dd6a86-28fc-404e-afbe-1cdb03e8bfc2"
      },
      "outputs": [
        {
          "name": "stdout",
          "output_type": "stream",
          "text": [
            "1 : 5 , 2 : 4 , 3 : 3 , 4 : 3 , 5 : 2 , "
          ]
        }
      ],
      "source": [
        "'''\n",
        "16.Counting the frequencies in a list using a dictionary in Python. Input : [1, 1, 1, 5,\n",
        " 5, 3, 1, 3, 3, 1,4, 4, 4, 2, 2, 2, 2]\n",
        " Expected output : 1 : 5 , 2 : 4 , 3 : 3 , 4 : 3 , 5 : 2\n",
        " '''\n",
        "nums = [1, 1, 1, 5, 5, 3, 1, 3, 3, 1, 4, 4, 4, 2, 2, 2, 2]\n",
        "freq = {}\n",
        "# count frequencies\n",
        "for num in nums:\n",
        "  freq[num] = freq.get(num, 0) + 1\n",
        "# print sorted by key\n",
        "for key in sorted(freq.keys()):\n",
        "  print(f\"{key} : {freq[key]}\", end=\" , \")\n",
        "\n",
        "output = \", \".join(f\"{key} : {freq[key]}\" for key in sorted(freq.keys()))"
      ]
    },
    {
      "cell_type": "code",
      "execution_count": null,
      "metadata": {
        "colab": {
          "base_uri": "https://localhost:8080/"
        },
        "id": "BjvblnPK06B5",
        "outputId": "df8ad678-2532-4e1e-df99-70d38d0d1129"
      },
      "outputs": [
        {
          "name": "stdout",
          "output_type": "stream",
          "text": [
            "1 : 5, 2 : 4, 3 : 3, 4 : 3, 5 : 2\n"
          ]
        }
      ],
      "source": [
        "# Count frequency in list\n",
        "nums = [1, 1, 1, 5, 5, 3, 1, 3, 3, 1, 4, 4, 4, 2, 2, 2, 2]\n",
        "freq = {}\n",
        "\n",
        "# count\n",
        "for num in nums:\n",
        "    freq[num] = freq.get(num, 0) + 1\n",
        "\n",
        "# print clean\n",
        "print(\", \".join(f\"{k} : {freq[k]}\" for k in sorted(freq)))\n"
      ]
    },
    {
      "cell_type": "code",
      "execution_count": null,
      "metadata": {
        "colab": {
          "background_save": true
        },
        "id": "lPr3k8dd1rJH",
        "outputId": "598141b5-0cb1-47b8-dd23-ee101c636d06"
      },
      "outputs": [
        {
          "name": "stdout",
          "output_type": "stream",
          "text": [
            "Sum of Odd Series: 2.71827876984127\n",
            "Sum of Even Series: 2.718253968253968\n"
          ]
        }
      ],
      "source": [
        "'''\n",
        " 17.Write a python program using function to find the sum of odd series and even\n",
        "series\n",
        " Odd series: 12/ 1! +32/ 3! + 52/ 5!+……n\n",
        " Even series: 22/ 2! + 42/ 4! + 62/ 6!+……n\n",
        " '''\n",
        "import math\n",
        "# Function for Odd Series\n",
        "def odd_series(n):\n",
        "    total = 0\n",
        "    for i in range(1, n+1, 2):   # odd numbers (1, 3, 5, ...)\n",
        "        total += (i**2) / math.factorial(i)\n",
        "    return total\n",
        "# Function for Even Series\n",
        "def even_series(n):\n",
        "    total = 0\n",
        "    for i in range(2, n+1, 2):   # even numbers (2, 4, 6, ...)\n",
        "        total += (i**2) / math.factorial(i)\n",
        "    return total\n",
        "n = int(input(\"Enter the value of n: \"))\n",
        "\n",
        "print(\"Sum of Odd Series:\", odd_series(n))\n",
        "print(\"Sum of Even Series:\", even_series(n))"
      ]
    },
    {
      "cell_type": "code",
      "execution_count": null,
      "metadata": {
        "colab": {
          "base_uri": "https://localhost:8080/"
        },
        "id": "IDCPhkUo2-VO",
        "outputId": "5b32ec7d-2e53-4493-aa13-3bdb99376029"
      },
      "outputs": [
        {
          "name": "stdout",
          "output_type": "stream",
          "text": [
            "Enter A number : 5\n",
            "Factorial of 5 is: 120\n"
          ]
        }
      ],
      "source": [
        "# 18.Python Program to Find Factorial of Number Using Recursion\n",
        "n = int(input('Enter A number : '))\n",
        "fact = 1\n",
        "for i in range(1, n + 1):\n",
        "  fact *= i\n",
        "print(f\"Factorial of {n} is: {fact}\")"
      ]
    },
    {
      "cell_type": "code",
      "execution_count": null,
      "metadata": {
        "id": "6Unf7ogn5u1O",
        "colab": {
          "base_uri": "https://localhost:8080/"
        },
        "outputId": "1c89ea24-1c2a-47db-c0ea-2c18fcb2f82a"
      },
      "outputs": [
        {
          "output_type": "stream",
          "name": "stdout",
          "text": [
            "[1, 2, 3, 4, 5]\n"
          ]
        }
      ],
      "source": [
        "#19.Write a Python function that takes a list and returns a new list with unique elements of the first list\n",
        "def unique_list(lst):\n",
        "    return list(set(lst))\n",
        "data = [1, 2, 2, 3, 4, 4, 5]\n",
        "print(unique_list(data))"
      ]
    },
    {
      "cell_type": "code",
      "source": [
        "'''\n",
        "20.Mini project :\n",
        " Problem Statement : Password Generator\n",
        " Make a program to generate a strong password using the input given by the user.\n",
        " To generate a password, randomly take some words from the user input and then\n",
        " include numbers, special characters and capital letters to generate the password.\n",
        " Also, keep a check that password length is more than 8 characters.\n",
        " Note: Include Exception handling wherever required. Also, make a ‘User’ class\n",
        " and store the details like user id, name and password of each user as a tuple\n",
        " '''\n",
        "import random\n",
        "import string\n",
        "\n",
        "class User:\n",
        "    def __init__(self, user_id, name, password):\n",
        "        self.user_id = user_id\n",
        "        self.name = name\n",
        "        self.password = password\n",
        "\n",
        "    def get_details(self):\n",
        "        return (self.user_id, self.name, self.password)\n",
        "\n",
        "    @staticmethod\n",
        "    def generate_password(text):\n",
        "        words = text.split()\n",
        "        if not words:\n",
        "           print(\"Input cannot be empty!\")\n",
        "        password = \"\".join(words)\n",
        "\n",
        "        # Validation checks\n",
        "        if len(password) < 8:\n",
        "            raise ValueError(\"Password must be at least 8 characters long!\")\n",
        "        if not any(ch.isalpha() for ch in password):\n",
        "            raise ValueError(\"Password must contain at least one letter!\")\n",
        "        if not any(ch.isdigit() for ch in password):\n",
        "            raise ValueError(\"Password must contain at least one number!\")\n",
        "        if not any(ch in \"!@#$%&*\" for ch in password):\n",
        "            raise ValueError(\"Password must contain at least one special symbol (!@#$%&*)!\")\n",
        "\n",
        "        return password\n",
        "try:\n",
        "    uid = input(\"Enter User ID: \")\n",
        "    name = input(\"Enter Name: \")\n",
        "    if not name.isalpha():\n",
        "      raise ValueError('\\033[1m Name must contain letters only!\\033[0m')\n",
        "\n",
        "    text = input(\"Enter password (letters, numbers, symbols): \")\n",
        "\n",
        "    pwd = User.generate_password(text)\n",
        "    user = User(uid, name, pwd)\n",
        "    print(\"\\n \\033[1m User Created Successfully \\033[0m \")\n",
        "    print(\"User Created:\", user.get_details())\n",
        "    print(\"Thank you,\\033[1m\", name, \"\\033[0m for registering! \")\n",
        "\n",
        "except Exception as e:\n",
        "    print(\"Error:\", e)\n"
      ],
      "metadata": {
        "colab": {
          "base_uri": "https://localhost:8080/"
        },
        "id": "Ynb8TrBjsHPE",
        "outputId": "700890f2-139f-4fad-dc9b-1f168d75cc94"
      },
      "execution_count": null,
      "outputs": [
        {
          "output_type": "stream",
          "name": "stdout",
          "text": [
            "Enter User ID: 1\n",
            "Enter Name: kruti\n",
            "Enter password (letters, numbers, symbols): kruti@123\n",
            "\n",
            " \u001b[1m User Created Successfully \u001b[0m \n",
            "User Created: ('1', 'kruti', 'kruti@123')\n",
            "Thank you,\u001b[1m kruti \u001b[0m for registering! \n"
          ]
        }
      ]
    }
  ],
  "metadata": {
    "colab": {
      "provenance": []
    },
    "kernelspec": {
      "display_name": "Python 3",
      "name": "python3"
    },
    "language_info": {
      "name": "python"
    }
  },
  "nbformat": 4,
  "nbformat_minor": 0
}